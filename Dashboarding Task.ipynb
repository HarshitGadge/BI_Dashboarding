{
 "cells": [
  {
   "cell_type": "code",
   "execution_count": 0,
   "metadata": {
    "application/vnd.databricks.v1+cell": {
     "cellMetadata": {
      "byteLimit": 2048000,
      "rowLimit": 10000
     },
     "inputWidgets": {},
     "nuid": "dce5a249-df52-46fc-a956-ff23fed91791",
     "showTitle": false,
     "tableResultSettingsMap": {},
     "title": ""
    }
   },
   "outputs": [
    {
     "output_type": "stream",
     "name": "stdout",
     "output_type": "stream",
     "text": [
      " Synthetic data created and loaded into views: agents, members, support_tickets, and survey_responses\n"
     ]
    }
   ],
   "source": [
    "from pyspark.sql import SparkSession\n",
    "from pyspark.sql.functions import *\n",
    "from datetime import datetime, timedelta\n",
    "import random\n",
    "\n",
    "spark = SparkSession.builder.appName(\"CreditUnionDashboard\").getOrCreate()\n",
    "\n",
    "# Set parameters\n",
    "num_agents = 25\n",
    "num_members = 300\n",
    "num_tickets = 500\n",
    "random.seed(42)\n",
    "\n",
    "# Generate agents DataFrame\n",
    "agents_data = []\n",
    "start_date = datetime.strptime(\"2019-01-01\", \"%Y-%m-%d\")\n",
    "for i in range(num_agents):\n",
    "    agents_data.append((\n",
    "        f\"A{100 + i}\",\n",
    "        f\"Agent_{i}\",\n",
    "        random.choice([\"East\", \"West\", \"Central\"]),\n",
    "        random.choice([\"New York\", \"Texas\", \"California\", \"Florida\"]),\n",
    "        (start_date + timedelta(days=90 * i)).strftime(\"%Y-%m-%d\")\n",
    "    ))\n",
    "\n",
    "agents_df = spark.createDataFrame(agents_data, [\"agent_id\", \"name\", \"team\", \"location\", \"hire_date\"])\n",
    "agents_df.createOrReplaceTempView(\"agents\")\n",
    "\n",
    "# Generate members DataFrame\n",
    "members_data = []\n",
    "start_date = datetime.strptime(\"2022-01-01\", \"%Y-%m-%d\")\n",
    "for i in range(num_members):\n",
    "    members_data.append((\n",
    "        f\"M{1000 + i}\",\n",
    "        random.randint(18, 70),\n",
    "        random.choice([\"Male\", \"Female\", \"Non-binary\"]),\n",
    "        random.choice([\"CA\", \"NY\", \"TX\", \"FL\", \"IL\", \"WA\"]),\n",
    "        (start_date + timedelta(days=3 * i)).strftime(\"%Y-%m-%d\")\n",
    "    ))\n",
    "\n",
    "members_df = spark.createDataFrame(members_data, [\"member_id\", \"age\", \"gender\", \"state\", \"join_date\"])\n",
    "members_df.createOrReplaceTempView(\"members\")\n",
    "\n",
    "# Generate support tickets DataFrame\n",
    "tickets_data = []\n",
    "start_date = datetime.strptime(\"2024-01-01\", \"%Y-%m-%d\")\n",
    "for i in range(num_tickets):\n",
    "    created_at = start_date + timedelta(days=random.randint(0, 180), hours=random.randint(0, 23), minutes=random.randint(0, 59))\n",
    "    resolution_minutes = random.randint(5, 240)\n",
    "    closed_at = created_at + timedelta(minutes=resolution_minutes)\n",
    "    tickets_data.append((\n",
    "        f\"T{1000 + i}\",\n",
    "        created_at,\n",
    "        closed_at,\n",
    "        random.choice([\"Phone\", \"Email\", \"Chat\"]),\n",
    "        random.choice([f\"A{100 + j}\" for j in range(num_agents)]),\n",
    "        random.choice([f\"M{1000 + j}\" for j in range(num_members)]),\n",
    "        random.choice([\"Low\", \"Medium\", \"High\"]),\n",
    "        \"Closed\"\n",
    "    ))\n",
    "\n",
    "tickets_df = spark.createDataFrame(tickets_data, [\"ticket_id\", \"created_at\", \"closed_at\", \"channel\", \"agent_id\", \"member_id\", \"priority\", \"status\"])\n",
    "tickets_df.createOrReplaceTempView(\"support_tickets\")\n",
    "\n",
    "# Generate survey responses DataFrame\n",
    "survey_data = []\n",
    "for row in tickets_df.collect():\n",
    "    if random.random() < 0.8:\n",
    "        survey_data.append((\n",
    "            row['ticket_id'],\n",
    "            row['member_id'],\n",
    "            random.randint(1, 5),\n",
    "            random.choice([\"Very satisfied\", \"Helpful\", \"Quick resolution\", \"Could be better\", \"Unsatisfied\", \"Excellent support\"])\n",
    "        ))\n",
    "\n",
    "surveys_df = spark.createDataFrame(survey_data, [\"ticket_id\", \"member_id\", \"csat_rating\", \"comments\"])\n",
    "surveys_df.createOrReplaceTempView(\"survey_responses\")\n",
    "\n",
    "print(\" Synthetic data created and loaded into views: agents, members, support_tickets, and survey_responses\")\n"
   ]
  },
  {
   "cell_type": "code",
   "execution_count": 0,
   "metadata": {
    "application/vnd.databricks.v1+cell": {
     "cellMetadata": {
      "byteLimit": 2048000,
      "rowLimit": 10000
     },
     "inputWidgets": {},
     "nuid": "d9ebc097-d71a-4e26-9e65-14082bbf659a",
     "showTitle": false,
     "tableResultSettingsMap": {},
     "title": ""
    }
   },
   "outputs": [
    {
     "output_type": "stream",
     "name": "stdout",
     "output_type": "stream",
     "text": [
      "root\n |-- ticket_id: string (nullable = true)\n |-- member_id: string (nullable = true)\n |-- agent_id: string (nullable = true)\n |-- created_at: timestamp (nullable = true)\n |-- closed_at: timestamp (nullable = true)\n |-- channel: string (nullable = true)\n |-- priority: string (nullable = true)\n |-- status: string (nullable = true)\n |-- resolution_time_min: double (nullable = true)\n |-- sla_met: integer (nullable = false)\n |-- name: string (nullable = true)\n |-- team: string (nullable = true)\n |-- location: string (nullable = true)\n |-- hire_date: string (nullable = true)\n |-- age: long (nullable = true)\n |-- gender: string (nullable = true)\n |-- state: string (nullable = true)\n |-- join_date: string (nullable = true)\n |-- csat_rating: long (nullable = true)\n |-- comments: string (nullable = true)\n\n"
     ]
    },
    {
     "output_type": "display_data",
     "data": {
      "text/html": [
       "<style scoped>\n",
       "  .table-result-container {\n",
       "    max-height: 300px;\n",
       "    overflow: auto;\n",
       "  }\n",
       "  table, th, td {\n",
       "    border: 1px solid black;\n",
       "    border-collapse: collapse;\n",
       "  }\n",
       "  th, td {\n",
       "    padding: 5px;\n",
       "  }\n",
       "  th {\n",
       "    text-align: left;\n",
       "  }\n",
       "</style><div class='table-result-container'><table class='table-result'><thead style='background-color: white'><tr><th>ticket_id</th><th>member_id</th><th>agent_id</th><th>created_at</th><th>closed_at</th><th>channel</th><th>priority</th><th>status</th><th>resolution_time_min</th><th>sla_met</th><th>name</th><th>team</th><th>location</th><th>hire_date</th><th>age</th><th>gender</th><th>state</th><th>join_date</th><th>csat_rating</th><th>comments</th></tr></thead><tbody><tr><td>T1000</td><td>M1274</td><td>A103</td><td>2024-02-29T03:46:00.000+0000</td><td>2024-02-29T04:40:00.000+0000</td><td>Email</td><td>High</td><td>Closed</td><td>54.0</td><td>1</td><td>Agent_3</td><td>East</td><td>New York</td><td>2019-09-28</td><td>35</td><td>Non-binary</td><td>IL</td><td>2024-04-02</td><td>1</td><td>Unsatisfied</td></tr><tr><td>T1002</td><td>M1184</td><td>A107</td><td>2024-03-13T03:53:00.000+0000</td><td>2024-03-13T04:47:00.000+0000</td><td>Email</td><td>Low</td><td>Closed</td><td>54.0</td><td>1</td><td>Agent_7</td><td>East</td><td>Texas</td><td>2020-09-22</td><td>45</td><td>Non-binary</td><td>IL</td><td>2023-07-07</td><td>2</td><td>Excellent support</td></tr><tr><td>T1006</td><td>M1205</td><td>A102</td><td>2024-01-14T08:55:00.000+0000</td><td>2024-01-14T11:02:00.000+0000</td><td>Phone</td><td>Medium</td><td>Closed</td><td>127.0</td><td>0</td><td>Agent_2</td><td>East</td><td>Texas</td><td>2019-06-30</td><td>33</td><td>Male</td><td>FL</td><td>2023-09-08</td><td>null</td><td>null</td></tr><tr><td>T1005</td><td>M1174</td><td>A114</td><td>2024-01-04T18:18:00.000+0000</td><td>2024-01-04T20:23:00.000+0000</td><td>Email</td><td>Low</td><td>Closed</td><td>125.0</td><td>0</td><td>Agent_14</td><td>Central</td><td>Florida</td><td>2022-06-14</td><td>60</td><td>Male</td><td>WA</td><td>2023-06-07</td><td>null</td><td>null</td></tr><tr><td>T1001</td><td>M1268</td><td>A108</td><td>2024-02-17T06:13:00.000+0000</td><td>2024-02-17T09:27:00.000+0000</td><td>Email</td><td>High</td><td>Closed</td><td>194.0</td><td>0</td><td>Agent_8</td><td>East</td><td>New York</td><td>2020-12-21</td><td>50</td><td>Non-binary</td><td>TX</td><td>2024-03-15</td><td>5</td><td>Helpful</td></tr><tr><td>T1003</td><td>M1023</td><td>A108</td><td>2024-03-18T00:45:00.000+0000</td><td>2024-03-18T03:06:00.000+0000</td><td>Phone</td><td>Low</td><td>Closed</td><td>141.0</td><td>0</td><td>Agent_8</td><td>East</td><td>New York</td><td>2020-12-21</td><td>53</td><td>Non-binary</td><td>TX</td><td>2022-03-11</td><td>4</td><td>Excellent support</td></tr><tr><td>T1009</td><td>M1230</td><td>A112</td><td>2024-06-01T19:14:00.000+0000</td><td>2024-06-01T22:37:00.000+0000</td><td>Chat</td><td>Medium</td><td>Closed</td><td>203.0</td><td>0</td><td>Agent_12</td><td>Central</td><td>California</td><td>2021-12-16</td><td>52</td><td>Non-binary</td><td>NY</td><td>2023-11-22</td><td>null</td><td>null</td></tr><tr><td>T1007</td><td>M1076</td><td>A104</td><td>2024-01-19T18:40:00.000+0000</td><td>2024-01-19T21:40:00.000+0000</td><td>Phone</td><td>High</td><td>Closed</td><td>180.0</td><td>0</td><td>Agent_4</td><td>Central</td><td>New York</td><td>2019-12-27</td><td>59</td><td>Male</td><td>CA</td><td>2022-08-17</td><td>1</td><td>Could be better</td></tr><tr><td>T1004</td><td>M1251</td><td>A124</td><td>2024-05-21T09:44:00.000+0000</td><td>2024-05-21T10:21:00.000+0000</td><td>Chat</td><td>Low</td><td>Closed</td><td>37.0</td><td>1</td><td>Agent_24</td><td>Central</td><td>California</td><td>2024-11-30</td><td>27</td><td>Male</td><td>NY</td><td>2024-01-24</td><td>3</td><td>Helpful</td></tr><tr><td>T1008</td><td>M1213</td><td>A124</td><td>2024-03-18T02:15:00.000+0000</td><td>2024-03-18T02:50:00.000+0000</td><td>Chat</td><td>High</td><td>Closed</td><td>35.0</td><td>1</td><td>Agent_24</td><td>Central</td><td>California</td><td>2024-11-30</td><td>58</td><td>Female</td><td>IL</td><td>2023-10-02</td><td>3</td><td>Excellent support</td></tr></tbody></table></div>"
      ]
     },
     "metadata": {
      "application/vnd.databricks.v1+output": {
       "addedWidgets": {},
       "aggData": [],
       "aggError": "",
       "aggOverflow": false,
       "aggSchema": [],
       "aggSeriesLimitReached": false,
       "aggType": "",
       "arguments": {},
       "columnCustomDisplayInfos": {},
       "data": [
        [
         "T1000",
         "M1274",
         "A103",
         "2024-02-29T03:46:00.000+0000",
         "2024-02-29T04:40:00.000+0000",
         "Email",
         "High",
         "Closed",
         54.0,
         1,
         "Agent_3",
         "East",
         "New York",
         "2019-09-28",
         35,
         "Non-binary",
         "IL",
         "2024-04-02",
         1,
         "Unsatisfied"
        ],
        [
         "T1002",
         "M1184",
         "A107",
         "2024-03-13T03:53:00.000+0000",
         "2024-03-13T04:47:00.000+0000",
         "Email",
         "Low",
         "Closed",
         54.0,
         1,
         "Agent_7",
         "East",
         "Texas",
         "2020-09-22",
         45,
         "Non-binary",
         "IL",
         "2023-07-07",
         2,
         "Excellent support"
        ],
        [
         "T1006",
         "M1205",
         "A102",
         "2024-01-14T08:55:00.000+0000",
         "2024-01-14T11:02:00.000+0000",
         "Phone",
         "Medium",
         "Closed",
         127.0,
         0,
         "Agent_2",
         "East",
         "Texas",
         "2019-06-30",
         33,
         "Male",
         "FL",
         "2023-09-08",
         null,
         null
        ],
        [
         "T1005",
         "M1174",
         "A114",
         "2024-01-04T18:18:00.000+0000",
         "2024-01-04T20:23:00.000+0000",
         "Email",
         "Low",
         "Closed",
         125.0,
         0,
         "Agent_14",
         "Central",
         "Florida",
         "2022-06-14",
         60,
         "Male",
         "WA",
         "2023-06-07",
         null,
         null
        ],
        [
         "T1001",
         "M1268",
         "A108",
         "2024-02-17T06:13:00.000+0000",
         "2024-02-17T09:27:00.000+0000",
         "Email",
         "High",
         "Closed",
         194.0,
         0,
         "Agent_8",
         "East",
         "New York",
         "2020-12-21",
         50,
         "Non-binary",
         "TX",
         "2024-03-15",
         5,
         "Helpful"
        ],
        [
         "T1003",
         "M1023",
         "A108",
         "2024-03-18T00:45:00.000+0000",
         "2024-03-18T03:06:00.000+0000",
         "Phone",
         "Low",
         "Closed",
         141.0,
         0,
         "Agent_8",
         "East",
         "New York",
         "2020-12-21",
         53,
         "Non-binary",
         "TX",
         "2022-03-11",
         4,
         "Excellent support"
        ],
        [
         "T1009",
         "M1230",
         "A112",
         "2024-06-01T19:14:00.000+0000",
         "2024-06-01T22:37:00.000+0000",
         "Chat",
         "Medium",
         "Closed",
         203.0,
         0,
         "Agent_12",
         "Central",
         "California",
         "2021-12-16",
         52,
         "Non-binary",
         "NY",
         "2023-11-22",
         null,
         null
        ],
        [
         "T1007",
         "M1076",
         "A104",
         "2024-01-19T18:40:00.000+0000",
         "2024-01-19T21:40:00.000+0000",
         "Phone",
         "High",
         "Closed",
         180.0,
         0,
         "Agent_4",
         "Central",
         "New York",
         "2019-12-27",
         59,
         "Male",
         "CA",
         "2022-08-17",
         1,
         "Could be better"
        ],
        [
         "T1004",
         "M1251",
         "A124",
         "2024-05-21T09:44:00.000+0000",
         "2024-05-21T10:21:00.000+0000",
         "Chat",
         "Low",
         "Closed",
         37.0,
         1,
         "Agent_24",
         "Central",
         "California",
         "2024-11-30",
         27,
         "Male",
         "NY",
         "2024-01-24",
         3,
         "Helpful"
        ],
        [
         "T1008",
         "M1213",
         "A124",
         "2024-03-18T02:15:00.000+0000",
         "2024-03-18T02:50:00.000+0000",
         "Chat",
         "High",
         "Closed",
         35.0,
         1,
         "Agent_24",
         "Central",
         "California",
         "2024-11-30",
         58,
         "Female",
         "IL",
         "2023-10-02",
         3,
         "Excellent support"
        ]
       ],
       "datasetInfos": [],
       "dbfsResultPath": null,
       "isJsonSchema": true,
       "metadata": {},
       "overflow": false,
       "plotOptions": {
        "customPlotOptions": {},
        "displayType": "table",
        "pivotAggregation": null,
        "pivotColumns": null,
        "xColumns": null,
        "yColumns": null
       },
       "removedWidgets": [],
       "schema": [
        {
         "metadata": "{}",
         "name": "ticket_id",
         "type": "\"string\""
        },
        {
         "metadata": "{}",
         "name": "member_id",
         "type": "\"string\""
        },
        {
         "metadata": "{}",
         "name": "agent_id",
         "type": "\"string\""
        },
        {
         "metadata": "{}",
         "name": "created_at",
         "type": "\"timestamp\""
        },
        {
         "metadata": "{}",
         "name": "closed_at",
         "type": "\"timestamp\""
        },
        {
         "metadata": "{}",
         "name": "channel",
         "type": "\"string\""
        },
        {
         "metadata": "{}",
         "name": "priority",
         "type": "\"string\""
        },
        {
         "metadata": "{}",
         "name": "status",
         "type": "\"string\""
        },
        {
         "metadata": "{}",
         "name": "resolution_time_min",
         "type": "\"double\""
        },
        {
         "metadata": "{}",
         "name": "sla_met",
         "type": "\"integer\""
        },
        {
         "metadata": "{}",
         "name": "name",
         "type": "\"string\""
        },
        {
         "metadata": "{}",
         "name": "team",
         "type": "\"string\""
        },
        {
         "metadata": "{}",
         "name": "location",
         "type": "\"string\""
        },
        {
         "metadata": "{}",
         "name": "hire_date",
         "type": "\"string\""
        },
        {
         "metadata": "{}",
         "name": "age",
         "type": "\"long\""
        },
        {
         "metadata": "{}",
         "name": "gender",
         "type": "\"string\""
        },
        {
         "metadata": "{}",
         "name": "state",
         "type": "\"string\""
        },
        {
         "metadata": "{}",
         "name": "join_date",
         "type": "\"string\""
        },
        {
         "metadata": "{}",
         "name": "csat_rating",
         "type": "\"long\""
        },
        {
         "metadata": "{}",
         "name": "comments",
         "type": "\"string\""
        }
       ],
       "type": "table"
      }
     },
     "output_type": "display_data"
    }
   ],
   "source": [
    "from pyspark.sql.functions import col, unix_timestamp, when\n",
    "\n",
    "# Add resolution_time column (in minutes)\n",
    "tickets_enriched_df = spark.sql(\"SELECT * FROM support_tickets\") \\\n",
    "    .withColumn(\"resolution_time_min\", \n",
    "                (unix_timestamp(\"closed_at\") - unix_timestamp(\"created_at\")) / 60)\n",
    "\n",
    "# Flag SLA compliance (1 if resolved in <= 60 mins, else 0)\n",
    "tickets_enriched_df = tickets_enriched_df.withColumn(\n",
    "    \"sla_met\", when(col(\"resolution_time_min\") <= 60, 1).otherwise(0)\n",
    ")\n",
    "\n",
    "# Join with agents\n",
    "joined_df = tickets_enriched_df.join(spark.table(\"agents\"), on=\"agent_id\", how=\"left\")\n",
    "\n",
    "# Join with members\n",
    "joined_df = joined_df.join(spark.table(\"members\"), on=\"member_id\", how=\"left\")\n",
    "\n",
    "# Join with surveys\n",
    "final_df = joined_df.join(spark.table(\"survey_responses\"), on=[\"ticket_id\", \"member_id\"], how=\"left\")\n",
    "\n",
    "# Register as view for SQL access or export\n",
    "final_df.createOrReplaceTempView(\"dashboard_data\")\n",
    "\n",
    "# Show schema to confirm\n",
    "final_df.printSchema()\n",
    "\n",
    "# Preview sample\n",
    "display(final_df.limit(10))\n"
   ]
  },
  {
   "cell_type": "code",
   "execution_count": 0,
   "metadata": {
    "application/vnd.databricks.v1+cell": {
     "cellMetadata": {
      "byteLimit": 2048000,
      "implicitDf": true,
      "rowLimit": 10000
     },
     "inputWidgets": {},
     "nuid": "58e88df4-8e39-40e8-813b-0bf31677eadb",
     "showTitle": false,
     "tableResultSettingsMap": {},
     "title": ""
    }
   },
   "outputs": [
    {
     "output_type": "display_data",
     "data": {
      "text/html": [
       "<style scoped>\n",
       "  .table-result-container {\n",
       "    max-height: 300px;\n",
       "    overflow: auto;\n",
       "  }\n",
       "  table, th, td {\n",
       "    border: 1px solid black;\n",
       "    border-collapse: collapse;\n",
       "  }\n",
       "  th, td {\n",
       "    padding: 5px;\n",
       "  }\n",
       "  th {\n",
       "    text-align: left;\n",
       "  }\n",
       "</style><div class='table-result-container'><table class='table-result'><thead style='background-color: white'><tr></tr></thead><tbody></tbody></table></div>"
      ]
     },
     "metadata": {
      "application/vnd.databricks.v1+output": {
       "addedWidgets": {},
       "aggData": [],
       "aggError": "",
       "aggOverflow": false,
       "aggSchema": [],
       "aggSeriesLimitReached": false,
       "aggType": "",
       "arguments": {},
       "columnCustomDisplayInfos": {},
       "data": [],
       "datasetInfos": [],
       "dbfsResultPath": null,
       "isJsonSchema": true,
       "metadata": {},
       "overflow": false,
       "plotOptions": {
        "customPlotOptions": {},
        "displayType": "table",
        "pivotAggregation": null,
        "pivotColumns": null,
        "xColumns": null,
        "yColumns": null
       },
       "removedWidgets": [],
       "schema": [],
       "type": "table"
      }
     },
     "output_type": "display_data"
    }
   ],
   "source": [
    "%sql\n",
    "-- Weekly performance summary by agent\n",
    "CREATE OR REPLACE TEMP VIEW agent_weekly_summary AS\n",
    "SELECT\n",
    "  agent_id,\n",
    "  name AS agent_name,\n",
    "  team,\n",
    "  location,\n",
    "  weekofyear(created_at) AS week_num,\n",
    "  COUNT(ticket_id) AS total_tickets,\n",
    "  AVG(resolution_time_min) AS avg_resolution_time,\n",
    "  SUM(sla_met) AS sla_met_count,\n",
    "  ROUND(100.0 * SUM(sla_met) / COUNT(ticket_id), 2) AS sla_compliance_pct,\n",
    "  ROUND(AVG(csat_rating), 2) AS avg_csat\n",
    "FROM dashboard_data\n",
    "GROUP BY agent_id, agent_name, team, location, weekofyear(created_at);\n"
   ]
  },
  {
   "cell_type": "code",
   "execution_count": 0,
   "metadata": {
    "application/vnd.databricks.v1+cell": {
     "cellMetadata": {
      "byteLimit": 2048000,
      "implicitDf": true,
      "rowLimit": 10000
     },
     "inputWidgets": {},
     "nuid": "4cdd6148-4ba2-4963-9ad1-933fd2e63c81",
     "showTitle": false,
     "tableResultSettingsMap": {},
     "title": ""
    }
   },
   "outputs": [
    {
     "output_type": "display_data",
     "data": {
      "text/html": [
       "<style scoped>\n",
       "  .table-result-container {\n",
       "    max-height: 300px;\n",
       "    overflow: auto;\n",
       "  }\n",
       "  table, th, td {\n",
       "    border: 1px solid black;\n",
       "    border-collapse: collapse;\n",
       "  }\n",
       "  th, td {\n",
       "    padding: 5px;\n",
       "  }\n",
       "  th {\n",
       "    text-align: left;\n",
       "  }\n",
       "</style><div class='table-result-container'><table class='table-result'><thead style='background-color: white'><tr><th>agent_id</th><th>agent_name</th><th>team</th><th>location</th><th>week_num</th><th>total_tickets</th><th>avg_resolution_time</th><th>sla_met_count</th><th>sla_compliance_pct</th><th>avg_csat</th></tr></thead><tbody><tr><td>A102</td><td>Agent_2</td><td>East</td><td>Texas</td><td>1</td><td>1</td><td>68.0</td><td>0</td><td>0.00</td><td>4.0</td></tr><tr><td>A110</td><td>Agent_10</td><td>Central</td><td>Florida</td><td>1</td><td>1</td><td>159.0</td><td>0</td><td>0.00</td><td>null</td></tr><tr><td>A111</td><td>Agent_11</td><td>East</td><td>Florida</td><td>1</td><td>1</td><td>64.0</td><td>0</td><td>0.00</td><td>null</td></tr><tr><td>A114</td><td>Agent_14</td><td>Central</td><td>Florida</td><td>1</td><td>2</td><td>180.5</td><td>0</td><td>0.00</td><td>2.0</td></tr><tr><td>A116</td><td>Agent_16</td><td>East</td><td>Texas</td><td>1</td><td>2</td><td>87.5</td><td>0</td><td>0.00</td><td>5.0</td></tr><tr><td>A117</td><td>Agent_17</td><td>West</td><td>New York</td><td>1</td><td>3</td><td>91.0</td><td>2</td><td>66.67</td><td>4.0</td></tr><tr><td>A120</td><td>Agent_20</td><td>West</td><td>California</td><td>1</td><td>1</td><td>126.0</td><td>0</td><td>0.00</td><td>1.0</td></tr><tr><td>A122</td><td>Agent_22</td><td>Central</td><td>New York</td><td>1</td><td>1</td><td>160.0</td><td>0</td><td>0.00</td><td>2.0</td></tr><tr><td>A123</td><td>Agent_23</td><td>West</td><td>New York</td><td>1</td><td>2</td><td>218.0</td><td>0</td><td>0.00</td><td>3.5</td></tr><tr><td>A124</td><td>Agent_24</td><td>Central</td><td>California</td><td>1</td><td>1</td><td>65.0</td><td>0</td><td>0.00</td><td>4.0</td></tr></tbody></table></div>"
      ]
     },
     "metadata": {
      "application/vnd.databricks.v1+output": {
       "addedWidgets": {},
       "aggData": [],
       "aggError": "",
       "aggOverflow": false,
       "aggSchema": [],
       "aggSeriesLimitReached": false,
       "aggType": "",
       "arguments": {},
       "columnCustomDisplayInfos": {},
       "data": [
        [
         "A102",
         "Agent_2",
         "East",
         "Texas",
         1,
         1,
         68.0,
         0,
         "0.00",
         4.0
        ],
        [
         "A110",
         "Agent_10",
         "Central",
         "Florida",
         1,
         1,
         159.0,
         0,
         "0.00",
         null
        ],
        [
         "A111",
         "Agent_11",
         "East",
         "Florida",
         1,
         1,
         64.0,
         0,
         "0.00",
         null
        ],
        [
         "A114",
         "Agent_14",
         "Central",
         "Florida",
         1,
         2,
         180.5,
         0,
         "0.00",
         2.0
        ],
        [
         "A116",
         "Agent_16",
         "East",
         "Texas",
         1,
         2,
         87.5,
         0,
         "0.00",
         5.0
        ],
        [
         "A117",
         "Agent_17",
         "West",
         "New York",
         1,
         3,
         91.0,
         2,
         "66.67",
         4.0
        ],
        [
         "A120",
         "Agent_20",
         "West",
         "California",
         1,
         1,
         126.0,
         0,
         "0.00",
         1.0
        ],
        [
         "A122",
         "Agent_22",
         "Central",
         "New York",
         1,
         1,
         160.0,
         0,
         "0.00",
         2.0
        ],
        [
         "A123",
         "Agent_23",
         "West",
         "New York",
         1,
         2,
         218.0,
         0,
         "0.00",
         3.5
        ],
        [
         "A124",
         "Agent_24",
         "Central",
         "California",
         1,
         1,
         65.0,
         0,
         "0.00",
         4.0
        ]
       ],
       "datasetInfos": [],
       "dbfsResultPath": null,
       "isJsonSchema": true,
       "metadata": {},
       "overflow": false,
       "plotOptions": {
        "customPlotOptions": {},
        "displayType": "table",
        "pivotAggregation": null,
        "pivotColumns": null,
        "xColumns": null,
        "yColumns": null
       },
       "removedWidgets": [],
       "schema": [
        {
         "metadata": "{}",
         "name": "agent_id",
         "type": "\"string\""
        },
        {
         "metadata": "{}",
         "name": "agent_name",
         "type": "\"string\""
        },
        {
         "metadata": "{}",
         "name": "team",
         "type": "\"string\""
        },
        {
         "metadata": "{}",
         "name": "location",
         "type": "\"string\""
        },
        {
         "metadata": "{}",
         "name": "week_num",
         "type": "\"integer\""
        },
        {
         "metadata": "{}",
         "name": "total_tickets",
         "type": "\"long\""
        },
        {
         "metadata": "{}",
         "name": "avg_resolution_time",
         "type": "\"double\""
        },
        {
         "metadata": "{}",
         "name": "sla_met_count",
         "type": "\"long\""
        },
        {
         "metadata": "{}",
         "name": "sla_compliance_pct",
         "type": "\"decimal(27,2)\""
        },
        {
         "metadata": "{}",
         "name": "avg_csat",
         "type": "\"double\""
        }
       ],
       "type": "table"
      }
     },
     "output_type": "display_data"
    }
   ],
   "source": [
    "%sql\n",
    "SELECT * FROM agent_weekly_summary ORDER BY week_num, agent_id LIMIT 10;"
   ]
  },
  {
   "cell_type": "code",
   "execution_count": 0,
   "metadata": {
    "application/vnd.databricks.v1+cell": {
     "cellMetadata": {
      "byteLimit": 2048000,
      "implicitDf": true,
      "rowLimit": 10000
     },
     "inputWidgets": {},
     "nuid": "c8237439-0271-4894-b4fb-ac473e01c819",
     "showTitle": false,
     "tableResultSettingsMap": {},
     "title": ""
    }
   },
   "outputs": [
    {
     "output_type": "display_data",
     "data": {
      "text/html": [
       "<style scoped>\n",
       "  .table-result-container {\n",
       "    max-height: 300px;\n",
       "    overflow: auto;\n",
       "  }\n",
       "  table, th, td {\n",
       "    border: 1px solid black;\n",
       "    border-collapse: collapse;\n",
       "  }\n",
       "  th, td {\n",
       "    padding: 5px;\n",
       "  }\n",
       "  th {\n",
       "    text-align: left;\n",
       "  }\n",
       "</style><div class='table-result-container'><table class='table-result'><thead style='background-color: white'><tr></tr></thead><tbody></tbody></table></div>"
      ]
     },
     "metadata": {
      "application/vnd.databricks.v1+output": {
       "addedWidgets": {},
       "aggData": [],
       "aggError": "",
       "aggOverflow": false,
       "aggSchema": [],
       "aggSeriesLimitReached": false,
       "aggType": "",
       "arguments": {},
       "columnCustomDisplayInfos": {},
       "data": [],
       "datasetInfos": [],
       "dbfsResultPath": null,
       "isJsonSchema": true,
       "metadata": {},
       "overflow": false,
       "plotOptions": {
        "customPlotOptions": {},
        "displayType": "table",
        "pivotAggregation": null,
        "pivotColumns": null,
        "xColumns": null,
        "yColumns": null
       },
       "removedWidgets": [],
       "schema": [],
       "type": "table"
      }
     },
     "output_type": "display_data"
    }
   ],
   "source": [
    "%sql\n",
    "CREATE DATABASE IF NOT EXISTS credit_union;\n",
    "USE credit_union;"
   ]
  },
  {
   "cell_type": "code",
   "execution_count": 0,
   "metadata": {
    "application/vnd.databricks.v1+cell": {
     "cellMetadata": {
      "byteLimit": 2048000,
      "rowLimit": 10000
     },
     "inputWidgets": {},
     "nuid": "bc31a880-c268-4e7e-bb39-7fae5b5ff953",
     "showTitle": false,
     "tableResultSettingsMap": {},
     "title": ""
    }
   },
   "outputs": [],
   "source": [
    "final_df.write.format(\"delta\").mode(\"overwrite\").saveAsTable(\"credit_union.dashboard_data\")"
   ]
  },
  {
   "cell_type": "code",
   "execution_count": 0,
   "metadata": {
    "application/vnd.databricks.v1+cell": {
     "cellMetadata": {
      "byteLimit": 2048000,
      "implicitDf": true,
      "rowLimit": 10000
     },
     "inputWidgets": {},
     "nuid": "068b137a-ee12-4044-afcf-1ffc330a12ee",
     "showTitle": false,
     "tableResultSettingsMap": {},
     "title": ""
    }
   },
   "outputs": [
    {
     "output_type": "display_data",
     "data": {
      "text/html": [
       "<style scoped>\n",
       "  .table-result-container {\n",
       "    max-height: 300px;\n",
       "    overflow: auto;\n",
       "  }\n",
       "  table, th, td {\n",
       "    border: 1px solid black;\n",
       "    border-collapse: collapse;\n",
       "  }\n",
       "  th, td {\n",
       "    padding: 5px;\n",
       "  }\n",
       "  th {\n",
       "    text-align: left;\n",
       "  }\n",
       "</style><div class='table-result-container'><table class='table-result'><thead style='background-color: white'><tr></tr></thead><tbody></tbody></table></div>"
      ]
     },
     "metadata": {
      "application/vnd.databricks.v1+output": {
       "addedWidgets": {},
       "aggData": [],
       "aggError": "",
       "aggOverflow": false,
       "aggSchema": [],
       "aggSeriesLimitReached": false,
       "aggType": "",
       "arguments": {},
       "columnCustomDisplayInfos": {},
       "data": [],
       "datasetInfos": [],
       "dbfsResultPath": null,
       "isJsonSchema": true,
       "metadata": {},
       "overflow": false,
       "plotOptions": {
        "customPlotOptions": {},
        "displayType": "table",
        "pivotAggregation": null,
        "pivotColumns": null,
        "xColumns": null,
        "yColumns": null
       },
       "removedWidgets": [],
       "schema": [],
       "type": "table"
      }
     },
     "output_type": "display_data"
    }
   ],
   "source": [
    "%sql\n",
    "CREATE OR REPLACE TEMP VIEW daily_metrics AS\n",
    "SELECT\n",
    "  CAST(created_at AS DATE) AS date,\n",
    "  COUNT(*) AS total_tickets,\n",
    "  ROUND(AVG(resolution_time_min), 2) AS avg_resolution_time,\n",
    "  ROUND(SUM(sla_met) / COUNT(*) * 100, 2) AS sla_compliance_pct\n",
    "FROM dashboard_data\n",
    "GROUP BY CAST(created_at AS DATE)\n",
    "ORDER BY date;\n"
   ]
  },
  {
   "cell_type": "code",
   "execution_count": 0,
   "metadata": {
    "application/vnd.databricks.v1+cell": {
     "cellMetadata": {
      "byteLimit": 2048000,
      "implicitDf": true,
      "rowLimit": 10000
     },
     "inputWidgets": {},
     "nuid": "c829f245-bff1-43ad-ae82-aca6f7aefbdf",
     "showTitle": false,
     "tableResultSettingsMap": {},
     "title": ""
    }
   },
   "outputs": [
    {
     "output_type": "display_data",
     "data": {
      "text/html": [
       "<style scoped>\n",
       "  .table-result-container {\n",
       "    max-height: 300px;\n",
       "    overflow: auto;\n",
       "  }\n",
       "  table, th, td {\n",
       "    border: 1px solid black;\n",
       "    border-collapse: collapse;\n",
       "  }\n",
       "  th, td {\n",
       "    padding: 5px;\n",
       "  }\n",
       "  th {\n",
       "    text-align: left;\n",
       "  }\n",
       "</style><div class='table-result-container'><table class='table-result'><thead style='background-color: white'><tr></tr></thead><tbody></tbody></table></div>"
      ]
     },
     "metadata": {
      "application/vnd.databricks.v1+output": {
       "addedWidgets": {},
       "aggData": [],
       "aggError": "",
       "aggOverflow": false,
       "aggSchema": [],
       "aggSeriesLimitReached": false,
       "aggType": "",
       "arguments": {},
       "columnCustomDisplayInfos": {},
       "data": [],
       "datasetInfos": [],
       "dbfsResultPath": null,
       "isJsonSchema": true,
       "metadata": {},
       "overflow": false,
       "plotOptions": {
        "customPlotOptions": {},
        "displayType": "table",
        "pivotAggregation": null,
        "pivotColumns": null,
        "xColumns": null,
        "yColumns": null
       },
       "removedWidgets": [],
       "schema": [],
       "type": "table"
      }
     },
     "output_type": "display_data"
    }
   ],
   "source": [
    "%sql\n",
    "CREATE OR REPLACE TEMP VIEW team_csat_trends AS\n",
    "SELECT\n",
    "  team,\n",
    "  weekofyear(created_at) AS week,\n",
    "  COUNT(*) AS ticket_count,\n",
    "  ROUND(AVG(csat_rating), 2) AS avg_csat\n",
    "FROM dashboard_data\n",
    "GROUP BY team, weekofyear(created_at)\n",
    "ORDER BY team, week;\n"
   ]
  },
  {
   "cell_type": "code",
   "execution_count": 0,
   "metadata": {
    "application/vnd.databricks.v1+cell": {
     "cellMetadata": {
      "byteLimit": 2048000,
      "implicitDf": true,
      "rowLimit": 10000
     },
     "inputWidgets": {},
     "nuid": "7ea2ae35-fe20-4b65-820c-44668fbc5a3e",
     "showTitle": false,
     "tableResultSettingsMap": {},
     "title": ""
    }
   },
   "outputs": [
    {
     "output_type": "display_data",
     "data": {
      "text/html": [
       "<style scoped>\n",
       "  .table-result-container {\n",
       "    max-height: 300px;\n",
       "    overflow: auto;\n",
       "  }\n",
       "  table, th, td {\n",
       "    border: 1px solid black;\n",
       "    border-collapse: collapse;\n",
       "  }\n",
       "  th, td {\n",
       "    padding: 5px;\n",
       "  }\n",
       "  th {\n",
       "    text-align: left;\n",
       "  }\n",
       "</style><div class='table-result-container'><table class='table-result'><thead style='background-color: white'><tr><th>agent_id</th><th>total_tickets</th><th>avg_resolution</th><th>sla_compliance_pct</th><th>avg_csat</th></tr></thead><tbody><tr><td>A114</td><td>35</td><td>119.71</td><td>28.57</td><td>3.14</td></tr><tr><td>A122</td><td>26</td><td>127.15</td><td>26.92</td><td>2.95</td></tr><tr><td>A109</td><td>24</td><td>116.71</td><td>29.17</td><td>3.05</td></tr><tr><td>A115</td><td>24</td><td>130.38</td><td>16.67</td><td>2.61</td></tr><tr><td>A102</td><td>23</td><td>161.22</td><td>8.70</td><td>3.72</td></tr><tr><td>A113</td><td>23</td><td>126.83</td><td>17.39</td><td>2.79</td></tr><tr><td>A104</td><td>23</td><td>129.83</td><td>17.39</td><td>2.4</td></tr><tr><td>A120</td><td>22</td><td>118.77</td><td>27.27</td><td>2.56</td></tr><tr><td>A117</td><td>22</td><td>122.18</td><td>27.27</td><td>3.11</td></tr><tr><td>A119</td><td>21</td><td>144.62</td><td>14.29</td><td>2.44</td></tr><tr><td>A100</td><td>21</td><td>106.62</td><td>33.33</td><td>3.27</td></tr><tr><td>A121</td><td>21</td><td>111.81</td><td>28.57</td><td>3.47</td></tr><tr><td>A112</td><td>21</td><td>122.62</td><td>19.05</td><td>3.13</td></tr><tr><td>A108</td><td>20</td><td>131.8</td><td>25.00</td><td>3.5</td></tr><tr><td>A101</td><td>20</td><td>115.65</td><td>30.00</td><td>3.47</td></tr><tr><td>A107</td><td>19</td><td>127.0</td><td>26.32</td><td>2.93</td></tr><tr><td>A110</td><td>19</td><td>116.0</td><td>26.32</td><td>2.79</td></tr><tr><td>A116</td><td>18</td><td>146.0</td><td>11.11</td><td>3.08</td></tr><tr><td>A118</td><td>17</td><td>102.59</td><td>23.53</td><td>3.47</td></tr><tr><td>A111</td><td>17</td><td>120.65</td><td>29.41</td><td>3.0</td></tr><tr><td>A123</td><td>16</td><td>134.94</td><td>18.75</td><td>3.06</td></tr><tr><td>A103</td><td>13</td><td>143.92</td><td>15.38</td><td>3.58</td></tr><tr><td>A106</td><td>13</td><td>113.08</td><td>23.08</td><td>2.56</td></tr><tr><td>A105</td><td>11</td><td>142.55</td><td>18.18</td><td>1.86</td></tr><tr><td>A124</td><td>11</td><td>121.73</td><td>36.36</td><td>3.22</td></tr></tbody></table></div>"
      ]
     },
     "metadata": {
      "application/vnd.databricks.v1+output": {
       "addedWidgets": {},
       "aggData": [],
       "aggError": "",
       "aggOverflow": false,
       "aggSchema": [],
       "aggSeriesLimitReached": false,
       "aggType": "",
       "arguments": {},
       "columnCustomDisplayInfos": {},
       "data": [
        [
         "A114",
         35,
         119.71,
         "28.57",
         3.14
        ],
        [
         "A122",
         26,
         127.15,
         "26.92",
         2.95
        ],
        [
         "A109",
         24,
         116.71,
         "29.17",
         3.05
        ],
        [
         "A115",
         24,
         130.38,
         "16.67",
         2.61
        ],
        [
         "A102",
         23,
         161.22,
         "8.70",
         3.72
        ],
        [
         "A113",
         23,
         126.83,
         "17.39",
         2.79
        ],
        [
         "A104",
         23,
         129.83,
         "17.39",
         2.4
        ],
        [
         "A120",
         22,
         118.77,
         "27.27",
         2.56
        ],
        [
         "A117",
         22,
         122.18,
         "27.27",
         3.11
        ],
        [
         "A119",
         21,
         144.62,
         "14.29",
         2.44
        ],
        [
         "A100",
         21,
         106.62,
         "33.33",
         3.27
        ],
        [
         "A121",
         21,
         111.81,
         "28.57",
         3.47
        ],
        [
         "A112",
         21,
         122.62,
         "19.05",
         3.13
        ],
        [
         "A108",
         20,
         131.8,
         "25.00",
         3.5
        ],
        [
         "A101",
         20,
         115.65,
         "30.00",
         3.47
        ],
        [
         "A107",
         19,
         127.0,
         "26.32",
         2.93
        ],
        [
         "A110",
         19,
         116.0,
         "26.32",
         2.79
        ],
        [
         "A116",
         18,
         146.0,
         "11.11",
         3.08
        ],
        [
         "A118",
         17,
         102.59,
         "23.53",
         3.47
        ],
        [
         "A111",
         17,
         120.65,
         "29.41",
         3.0
        ],
        [
         "A123",
         16,
         134.94,
         "18.75",
         3.06
        ],
        [
         "A103",
         13,
         143.92,
         "15.38",
         3.58
        ],
        [
         "A106",
         13,
         113.08,
         "23.08",
         2.56
        ],
        [
         "A105",
         11,
         142.55,
         "18.18",
         1.86
        ],
        [
         "A124",
         11,
         121.73,
         "36.36",
         3.22
        ]
       ],
       "datasetInfos": [],
       "dbfsResultPath": null,
       "isJsonSchema": true,
       "metadata": {},
       "overflow": false,
       "plotOptions": {
        "customPlotOptions": {},
        "displayType": "table",
        "pivotAggregation": null,
        "pivotColumns": null,
        "xColumns": null,
        "yColumns": null
       },
       "removedWidgets": [],
       "schema": [
        {
         "metadata": "{}",
         "name": "agent_id",
         "type": "\"string\""
        },
        {
         "metadata": "{}",
         "name": "total_tickets",
         "type": "\"long\""
        },
        {
         "metadata": "{}",
         "name": "avg_resolution",
         "type": "\"double\""
        },
        {
         "metadata": "{}",
         "name": "sla_compliance_pct",
         "type": "\"decimal(27,2)\""
        },
        {
         "metadata": "{}",
         "name": "avg_csat",
         "type": "\"double\""
        }
       ],
       "type": "table"
      }
     },
     "output_type": "display_data"
    },
    {
     "output_type": "display_data",
     "data": {
      "text/plain": [
       "Databricks visualization. Run in Databricks to view."
      ]
     },
     "metadata": {
      "application/vnd.databricks.v1.subcommand+json": {
       "baseErrorDetails": null,
       "bindings": {},
       "collapsed": false,
       "command": "%sql WITH q AS (SELECT\n  agent_id,\n  COUNT(*) AS total_tickets,\n  ROUND(AVG(resolution_time_min), 2) AS avg_resolution,\n  ROUND(SUM(sla_met) * 100.0 / COUNT(*), 2) AS sla_compliance_pct,\n  ROUND(AVG(csat_rating), 2) AS avg_csat\nFROM dashboard_data\nGROUP BY agent_id\nORDER BY total_tickets DESC) SELECT `agent_id`,SUM(`avg_csat`) `column_fbb45bd853` FROM q GROUP BY `agent_id`",
       "commandTitle": "Visualization 1",
       "commandType": "auto",
       "commandVersion": 0,
       "commentThread": [],
       "commentsVisible": false,
       "contentSha256Hex": null,
       "customPlotOptions": {
        "redashChart": [
         {
          "key": "type",
          "value": "CHART"
         },
         {
          "key": "options",
          "value": {
           "alignYAxesAtZero": true,
           "coefficient": 1,
           "columnConfigurationMap": {
            "x": {
             "column": "agent_id",
             "id": "column_fbb45bd850"
            },
            "y": [
             {
              "column": "sla_compliance_pct",
              "id": "column_fbb45bd853",
              "transform": "SUM"
             }
            ]
           },
           "dateTimeFormat": "DD/MM/YYYY HH:mm",
           "direction": {
            "type": "counterclockwise"
           },
           "error_y": {
            "type": "data",
            "visible": true
           },
           "globalSeriesType": "column",
           "isAggregationOn": true,
           "legend": {
            "traceorder": "normal"
           },
           "missingValuesAsZero": true,
           "numberFormat": "0,0.[00000]",
           "percentFormat": "0[.]00%",
           "series": {
            "error_y": {
             "type": "data",
             "visible": true
            },
            "stacking": null
           },
           "seriesOptions": {
            "column_fbb45bd853": {
             "type": "column",
             "yAxis": 0
            }
           },
           "showDataLabels": false,
           "sizemode": "diameter",
           "sortX": true,
           "sortY": true,
           "swappedAxes": false,
           "textFormat": "",
           "useAggregationsUi": true,
           "valuesOptions": {},
           "version": 2,
           "xAxis": {
            "labels": {
             "enabled": true
            },
            "type": "-"
           },
           "yAxis": [
            {
             "type": "-"
            },
            {
             "opposite": true,
             "type": "-"
            }
           ]
          }
         }
        ]
       },
       "datasetPreviewNameToCmdIdMap": {},
       "diffDeletes": [],
       "diffInserts": [],
       "displayType": "redashChart",
       "error": null,
       "errorDetails": null,
       "errorSummary": null,
       "errorTraceType": null,
       "finishTime": 0,
       "globalVars": {},
       "guid": "",
       "height": "auto",
       "hideCommandCode": false,
       "hideCommandResult": false,
       "iPythonMetadata": null,
       "inputWidgets": {},
       "isLockedInExamMode": false,
       "latestUser": "a user",
       "latestUserId": null,
       "listResultMetadata": null,
       "metadata": {},
       "nuid": "a2c70abf-65e8-428f-9dbe-a530f1a079e9",
       "origId": 0,
       "parentHierarchy": [],
       "pivotAggregation": null,
       "pivotColumns": null,
       "position": 9.0,
       "resultDbfsErrorMessage": null,
       "resultDbfsStatus": "INLINED_IN_TREE",
       "results": null,
       "showCommandTitle": false,
       "startTime": 0,
       "state": "input",
       "streamStates": {},
       "subcommandOptions": {
        "queryPlan": {
         "groups": [
          {
           "column": "agent_id",
           "type": "column"
          }
         ],
         "selects": [
          {
           "column": "agent_id",
           "type": "column"
          },
          {
           "alias": "column_fbb45bd853",
           "args": [
            {
             "column": "sla_compliance_pct",
             "type": "column"
            }
           ],
           "function": "SUM",
           "type": "function"
          }
         ]
        }
       },
       "submitTime": 0,
       "subtype": "tableResultSubCmd.visualization",
       "tableResultIndex": 0,
       "tableResultSettingsMap": {},
       "useConsistentColors": false,
       "version": "CommandV1",
       "width": "auto",
       "workflows": [],
       "xColumns": null,
       "yColumns": null
      }
     },
     "output_type": "display_data"
    },
    {
     "output_type": "display_data",
     "data": {
      "text/plain": [
       "Databricks visualization. Run in Databricks to view."
      ]
     },
     "metadata": {
      "application/vnd.databricks.v1.subcommand+json": {
       "baseErrorDetails": null,
       "bindings": {},
       "collapsed": false,
       "command": "%sql WITH q AS (SELECT\n  agent_id,\n  COUNT(*) AS total_tickets,\n  ROUND(AVG(resolution_time_min), 2) AS avg_resolution,\n  ROUND(SUM(sla_met) * 100.0 / COUNT(*), 2) AS sla_compliance_pct,\n  ROUND(AVG(csat_rating), 2) AS avg_csat\nFROM dashboard_data\nGROUP BY agent_id\nORDER BY total_tickets DESC) SELECT `agent_id`,SUM(`avg_csat`) `column_fbb45bd856` FROM q GROUP BY `agent_id`",
       "commandTitle": "Visualization 2",
       "commandType": "auto",
       "commandVersion": 0,
       "commentThread": [],
       "commentsVisible": false,
       "contentSha256Hex": null,
       "customPlotOptions": {
        "redashChart": [
         {
          "key": "type",
          "value": "CHART"
         },
         {
          "key": "options",
          "value": {
           "alignYAxesAtZero": true,
           "coefficient": 1,
           "columnConfigurationMap": {
            "x": {
             "column": "agent_id",
             "id": "column_fbb45bd858"
            },
            "y": [
             {
              "column": "avg_csat",
              "id": "column_fbb45bd856",
              "transform": "SUM"
             }
            ]
           },
           "dateTimeFormat": "DD/MM/YYYY HH:mm",
           "direction": {
            "type": "counterclockwise"
           },
           "error_y": {
            "type": "data",
            "visible": true
           },
           "globalSeriesType": "column",
           "isAggregationOn": true,
           "legend": {
            "traceorder": "normal"
           },
           "missingValuesAsZero": true,
           "numberFormat": "0,0.[00000]",
           "percentFormat": "0[.]00%",
           "series": {
            "error_y": {
             "type": "data",
             "visible": true
            },
            "stacking": null
           },
           "seriesOptions": {
            "column_fbb45bd856": {
             "type": "column",
             "yAxis": 0
            }
           },
           "showDataLabels": false,
           "sizemode": "diameter",
           "sortX": true,
           "sortY": true,
           "swappedAxes": false,
           "textFormat": "",
           "useAggregationsUi": true,
           "valuesOptions": {},
           "version": 2,
           "xAxis": {
            "labels": {
             "enabled": true
            },
            "type": "-"
           },
           "yAxis": [
            {
             "type": "-"
            },
            {
             "opposite": true,
             "type": "-"
            }
           ]
          }
         }
        ]
       },
       "datasetPreviewNameToCmdIdMap": {},
       "diffDeletes": [],
       "diffInserts": [],
       "displayType": "redashChart",
       "error": null,
       "errorDetails": null,
       "errorSummary": null,
       "errorTraceType": null,
       "finishTime": 0,
       "globalVars": {},
       "guid": "",
       "height": "auto",
       "hideCommandCode": false,
       "hideCommandResult": false,
       "iPythonMetadata": null,
       "inputWidgets": {},
       "isLockedInExamMode": false,
       "latestUser": "a user",
       "latestUserId": null,
       "listResultMetadata": null,
       "metadata": {},
       "nuid": "775defd0-5fa0-4a0c-bc9b-a8e3bc21153f",
       "origId": 0,
       "parentHierarchy": [],
       "pivotAggregation": null,
       "pivotColumns": null,
       "position": 10.0,
       "resultDbfsErrorMessage": null,
       "resultDbfsStatus": "INLINED_IN_TREE",
       "results": null,
       "showCommandTitle": false,
       "startTime": 0,
       "state": "input",
       "streamStates": {},
       "subcommandOptions": {
        "queryPlan": {
         "groups": [
          {
           "column": "agent_id",
           "type": "column"
          }
         ],
         "selects": [
          {
           "column": "agent_id",
           "type": "column"
          },
          {
           "alias": "column_fbb45bd856",
           "args": [
            {
             "column": "avg_csat",
             "type": "column"
            }
           ],
           "function": "SUM",
           "type": "function"
          }
         ]
        }
       },
       "submitTime": 0,
       "subtype": "tableResultSubCmd.visualization",
       "tableResultIndex": 0,
       "tableResultSettingsMap": {},
       "useConsistentColors": false,
       "version": "CommandV1",
       "width": "auto",
       "workflows": [],
       "xColumns": null,
       "yColumns": null
      }
     },
     "output_type": "display_data"
    }
   ],
   "source": [
    "%sql\n",
    "SELECT\n",
    "  agent_id,\n",
    "  COUNT(*) AS total_tickets,\n",
    "  ROUND(AVG(resolution_time_min), 2) AS avg_resolution,\n",
    "  ROUND(SUM(sla_met) * 100.0 / COUNT(*), 2) AS sla_compliance_pct,\n",
    "  ROUND(AVG(csat_rating), 2) AS avg_csat\n",
    "FROM dashboard_data\n",
    "GROUP BY agent_id\n",
    "ORDER BY total_tickets DESC\n"
   ]
  },
  {
   "cell_type": "code",
   "execution_count": 0,
   "metadata": {
    "application/vnd.databricks.v1+cell": {
     "cellMetadata": {
      "byteLimit": 2048000,
      "implicitDf": true,
      "rowLimit": 10000
     },
     "inputWidgets": {},
     "nuid": "538b1d6c-0b68-435a-a3cc-e6c9ecd5d3de",
     "showTitle": false,
     "tableResultSettingsMap": {},
     "title": ""
    }
   },
   "outputs": [
    {
     "output_type": "display_data",
     "data": {
      "text/html": [
       "<style scoped>\n",
       "  .table-result-container {\n",
       "    max-height: 300px;\n",
       "    overflow: auto;\n",
       "  }\n",
       "  table, th, td {\n",
       "    border: 1px solid black;\n",
       "    border-collapse: collapse;\n",
       "  }\n",
       "  th, td {\n",
       "    padding: 5px;\n",
       "  }\n",
       "  th {\n",
       "    text-align: left;\n",
       "  }\n",
       "</style><div class='table-result-container'><table class='table-result'><thead style='background-color: white'><tr><th>team</th><th>sla_pct</th></tr></thead><tbody><tr><td>Central</td><td>26.18</td></tr><tr><td>East</td><td>20.89</td></tr><tr><td>West</td><td>22.62</td></tr></tbody></table></div>"
      ]
     },
     "metadata": {
      "application/vnd.databricks.v1+output": {
       "addedWidgets": {},
       "aggData": [],
       "aggError": "",
       "aggOverflow": false,
       "aggSchema": [],
       "aggSeriesLimitReached": false,
       "aggType": "",
       "arguments": {},
       "columnCustomDisplayInfos": {},
       "data": [
        [
         "Central",
         26.18
        ],
        [
         "East",
         20.89
        ],
        [
         "West",
         22.62
        ]
       ],
       "datasetInfos": [],
       "dbfsResultPath": null,
       "isJsonSchema": true,
       "metadata": {},
       "overflow": false,
       "plotOptions": {
        "customPlotOptions": {},
        "displayType": "table",
        "pivotAggregation": null,
        "pivotColumns": null,
        "xColumns": null,
        "yColumns": null
       },
       "removedWidgets": [],
       "schema": [
        {
         "metadata": "{}",
         "name": "team",
         "type": "\"string\""
        },
        {
         "metadata": "{}",
         "name": "sla_pct",
         "type": "\"double\""
        }
       ],
       "type": "table"
      }
     },
     "output_type": "display_data"
    },
    {
     "output_type": "display_data",
     "data": {
      "text/plain": [
       "Databricks visualization. Run in Databricks to view."
      ]
     },
     "metadata": {
      "application/vnd.databricks.v1.subcommand+json": {
       "baseErrorDetails": null,
       "bindings": {},
       "collapsed": false,
       "command": "%sql WITH q AS (SELECT team, ROUND(AVG(sla_met) * 100, 2) AS sla_pct\nFROM dashboard_data\nGROUP BY team) SELECT `team`,SUM(`sla_pct`) `column_fbb45bd861` FROM q GROUP BY `team`",
       "commandTitle": "Visualization 1",
       "commandType": "auto",
       "commandVersion": 0,
       "commentThread": [],
       "commentsVisible": false,
       "contentSha256Hex": null,
       "customPlotOptions": {
        "redashChart": [
         {
          "key": "type",
          "value": "CHART"
         },
         {
          "key": "options",
          "value": {
           "alignYAxesAtZero": true,
           "coefficient": 1,
           "columnConfigurationMap": {
            "x": {
             "column": "team",
             "id": "column_fbb45bd860"
            },
            "y": [
             {
              "column": "sla_pct",
              "id": "column_fbb45bd861",
              "transform": "SUM"
             }
            ]
           },
           "dateTimeFormat": "DD/MM/YYYY HH:mm",
           "direction": {
            "type": "counterclockwise"
           },
           "error_y": {
            "type": "data",
            "visible": true
           },
           "globalSeriesType": "pie",
           "legend": {
            "traceorder": "normal"
           },
           "missingValuesAsZero": true,
           "numberFormat": "0,0.[00000]",
           "percentFormat": "0[.]00%",
           "series": {
            "error_y": {
             "type": "data",
             "visible": true
            },
            "stacking": null
           },
           "seriesOptions": {
            "column_fbb45bd861": {
             "name": "sla_pct",
             "type": "pie",
             "yAxis": 0
            }
           },
           "showDataLabels": true,
           "sizemode": "diameter",
           "sortX": true,
           "sortY": true,
           "swappedAxes": false,
           "textFormat": "",
           "useAggregationsUi": true,
           "valuesOptions": {},
           "version": 2,
           "xAxis": {
            "labels": {
             "enabled": true
            },
            "type": "-"
           },
           "yAxis": [
            {
             "type": "-"
            },
            {
             "opposite": true,
             "type": "-"
            }
           ]
          }
         }
        ]
       },
       "datasetPreviewNameToCmdIdMap": {},
       "diffDeletes": [],
       "diffInserts": [],
       "displayType": "redashChart",
       "error": null,
       "errorDetails": null,
       "errorSummary": null,
       "errorTraceType": null,
       "finishTime": 0,
       "globalVars": {},
       "guid": "",
       "height": "auto",
       "hideCommandCode": false,
       "hideCommandResult": false,
       "iPythonMetadata": null,
       "inputWidgets": {},
       "isLockedInExamMode": false,
       "latestUser": "a user",
       "latestUserId": null,
       "listResultMetadata": null,
       "metadata": {},
       "nuid": "74879f95-afb5-4b8a-9b07-59f2ae887aef",
       "origId": 0,
       "parentHierarchy": [],
       "pivotAggregation": null,
       "pivotColumns": null,
       "position": 10.0,
       "resultDbfsErrorMessage": null,
       "resultDbfsStatus": "INLINED_IN_TREE",
       "results": null,
       "showCommandTitle": false,
       "startTime": 0,
       "state": "input",
       "streamStates": {},
       "subcommandOptions": {
        "queryPlan": {
         "groups": [
          {
           "column": "team",
           "type": "column"
          }
         ],
         "selects": [
          {
           "column": "team",
           "type": "column"
          },
          {
           "alias": "column_fbb45bd861",
           "args": [
            {
             "column": "sla_pct",
             "type": "column"
            }
           ],
           "function": "SUM",
           "type": "function"
          }
         ]
        }
       },
       "submitTime": 0,
       "subtype": "tableResultSubCmd.visualization",
       "tableResultIndex": 0,
       "tableResultSettingsMap": {},
       "useConsistentColors": false,
       "version": "CommandV1",
       "width": "auto",
       "workflows": [],
       "xColumns": null,
       "yColumns": null
      }
     },
     "output_type": "display_data"
    }
   ],
   "source": [
    "%sql\n",
    "SELECT team, ROUND(AVG(sla_met) * 100, 2) AS sla_pct\n",
    "FROM dashboard_data\n",
    "GROUP BY team\n"
   ]
  },
  {
   "cell_type": "code",
   "execution_count": 0,
   "metadata": {
    "application/vnd.databricks.v1+cell": {
     "cellMetadata": {
      "byteLimit": 2048000,
      "implicitDf": true,
      "rowLimit": 10000
     },
     "inputWidgets": {},
     "nuid": "f238fa50-eab2-45d5-8623-e969c991c938",
     "showTitle": false,
     "tableResultSettingsMap": {},
     "title": ""
    }
   },
   "outputs": [
    {
     "output_type": "display_data",
     "data": {
      "text/html": [
       "<style scoped>\n",
       "  .table-result-container {\n",
       "    max-height: 300px;\n",
       "    overflow: auto;\n",
       "  }\n",
       "  table, th, td {\n",
       "    border: 1px solid black;\n",
       "    border-collapse: collapse;\n",
       "  }\n",
       "  th, td {\n",
       "    padding: 5px;\n",
       "  }\n",
       "  th {\n",
       "    text-align: left;\n",
       "  }\n",
       "</style><div class='table-result-container'><table class='table-result'><thead style='background-color: white'><tr><th>day</th><th>tickets</th></tr></thead><tbody><tr><td>2024-01-01</td><td>2</td></tr><tr><td>2024-01-02</td><td>2</td></tr><tr><td>2024-01-03</td><td>5</td></tr><tr><td>2024-01-04</td><td>1</td></tr><tr><td>2024-01-06</td><td>4</td></tr><tr><td>2024-01-07</td><td>1</td></tr><tr><td>2024-01-08</td><td>2</td></tr><tr><td>2024-01-10</td><td>7</td></tr><tr><td>2024-01-12</td><td>2</td></tr><tr><td>2024-01-13</td><td>3</td></tr><tr><td>2024-01-14</td><td>3</td></tr><tr><td>2024-01-15</td><td>2</td></tr><tr><td>2024-01-16</td><td>4</td></tr><tr><td>2024-01-18</td><td>4</td></tr><tr><td>2024-01-19</td><td>6</td></tr><tr><td>2024-01-20</td><td>5</td></tr><tr><td>2024-01-21</td><td>3</td></tr><tr><td>2024-01-22</td><td>2</td></tr><tr><td>2024-01-23</td><td>1</td></tr><tr><td>2024-01-24</td><td>4</td></tr><tr><td>2024-01-25</td><td>5</td></tr><tr><td>2024-01-26</td><td>4</td></tr><tr><td>2024-01-27</td><td>3</td></tr><tr><td>2024-01-28</td><td>4</td></tr><tr><td>2024-01-29</td><td>4</td></tr><tr><td>2024-01-30</td><td>1</td></tr><tr><td>2024-01-31</td><td>4</td></tr><tr><td>2024-02-01</td><td>4</td></tr><tr><td>2024-02-02</td><td>1</td></tr><tr><td>2024-02-03</td><td>2</td></tr><tr><td>2024-02-04</td><td>2</td></tr><tr><td>2024-02-05</td><td>4</td></tr><tr><td>2024-02-06</td><td>3</td></tr><tr><td>2024-02-07</td><td>2</td></tr><tr><td>2024-02-08</td><td>3</td></tr><tr><td>2024-02-09</td><td>4</td></tr><tr><td>2024-02-10</td><td>1</td></tr><tr><td>2024-02-11</td><td>2</td></tr><tr><td>2024-02-12</td><td>7</td></tr><tr><td>2024-02-13</td><td>1</td></tr><tr><td>2024-02-14</td><td>2</td></tr><tr><td>2024-02-15</td><td>2</td></tr><tr><td>2024-02-16</td><td>1</td></tr><tr><td>2024-02-17</td><td>2</td></tr><tr><td>2024-02-18</td><td>5</td></tr><tr><td>2024-02-19</td><td>3</td></tr><tr><td>2024-02-20</td><td>1</td></tr><tr><td>2024-02-21</td><td>2</td></tr><tr><td>2024-02-22</td><td>5</td></tr><tr><td>2024-02-23</td><td>3</td></tr><tr><td>2024-02-24</td><td>3</td></tr><tr><td>2024-02-25</td><td>2</td></tr><tr><td>2024-02-27</td><td>5</td></tr><tr><td>2024-02-28</td><td>1</td></tr><tr><td>2024-02-29</td><td>1</td></tr><tr><td>2024-03-01</td><td>3</td></tr><tr><td>2024-03-02</td><td>4</td></tr><tr><td>2024-03-03</td><td>1</td></tr><tr><td>2024-03-04</td><td>3</td></tr><tr><td>2024-03-05</td><td>2</td></tr><tr><td>2024-03-06</td><td>1</td></tr><tr><td>2024-03-07</td><td>1</td></tr><tr><td>2024-03-08</td><td>3</td></tr><tr><td>2024-03-09</td><td>2</td></tr><tr><td>2024-03-10</td><td>2</td></tr><tr><td>2024-03-11</td><td>2</td></tr><tr><td>2024-03-12</td><td>4</td></tr><tr><td>2024-03-13</td><td>2</td></tr><tr><td>2024-03-14</td><td>1</td></tr><tr><td>2024-03-16</td><td>5</td></tr><tr><td>2024-03-17</td><td>7</td></tr><tr><td>2024-03-18</td><td>6</td></tr><tr><td>2024-03-20</td><td>4</td></tr><tr><td>2024-03-21</td><td>1</td></tr><tr><td>2024-03-22</td><td>6</td></tr><tr><td>2024-03-23</td><td>3</td></tr><tr><td>2024-03-24</td><td>4</td></tr><tr><td>2024-03-25</td><td>7</td></tr><tr><td>2024-03-26</td><td>5</td></tr><tr><td>2024-03-27</td><td>3</td></tr><tr><td>2024-03-28</td><td>1</td></tr><tr><td>2024-03-29</td><td>4</td></tr><tr><td>2024-03-31</td><td>3</td></tr><tr><td>2024-04-01</td><td>2</td></tr><tr><td>2024-04-02</td><td>3</td></tr><tr><td>2024-04-03</td><td>5</td></tr><tr><td>2024-04-05</td><td>7</td></tr><tr><td>2024-04-06</td><td>2</td></tr><tr><td>2024-04-07</td><td>3</td></tr><tr><td>2024-04-08</td><td>3</td></tr><tr><td>2024-04-09</td><td>4</td></tr><tr><td>2024-04-10</td><td>3</td></tr><tr><td>2024-04-11</td><td>5</td></tr><tr><td>2024-04-12</td><td>2</td></tr><tr><td>2024-04-13</td><td>1</td></tr><tr><td>2024-04-15</td><td>6</td></tr><tr><td>2024-04-16</td><td>3</td></tr><tr><td>2024-04-17</td><td>1</td></tr><tr><td>2024-04-19</td><td>2</td></tr><tr><td>2024-04-21</td><td>1</td></tr><tr><td>2024-04-22</td><td>2</td></tr><tr><td>2024-04-23</td><td>8</td></tr><tr><td>2024-04-24</td><td>6</td></tr><tr><td>2024-04-25</td><td>1</td></tr><tr><td>2024-04-26</td><td>3</td></tr><tr><td>2024-04-27</td><td>2</td></tr><tr><td>2024-04-28</td><td>4</td></tr><tr><td>2024-04-29</td><td>2</td></tr><tr><td>2024-04-30</td><td>5</td></tr><tr><td>2024-05-01</td><td>3</td></tr><tr><td>2024-05-02</td><td>4</td></tr><tr><td>2024-05-03</td><td>2</td></tr><tr><td>2024-05-04</td><td>2</td></tr><tr><td>2024-05-05</td><td>3</td></tr><tr><td>2024-05-06</td><td>3</td></tr><tr><td>2024-05-07</td><td>1</td></tr><tr><td>2024-05-08</td><td>4</td></tr><tr><td>2024-05-09</td><td>2</td></tr><tr><td>2024-05-10</td><td>4</td></tr><tr><td>2024-05-11</td><td>3</td></tr><tr><td>2024-05-12</td><td>4</td></tr><tr><td>2024-05-13</td><td>5</td></tr><tr><td>2024-05-14</td><td>2</td></tr><tr><td>2024-05-15</td><td>3</td></tr><tr><td>2024-05-16</td><td>3</td></tr><tr><td>2024-05-17</td><td>3</td></tr><tr><td>2024-05-18</td><td>1</td></tr><tr><td>2024-05-19</td><td>1</td></tr><tr><td>2024-05-20</td><td>3</td></tr><tr><td>2024-05-21</td><td>6</td></tr><tr><td>2024-05-22</td><td>3</td></tr><tr><td>2024-05-23</td><td>1</td></tr><tr><td>2024-05-24</td><td>5</td></tr><tr><td>2024-05-25</td><td>1</td></tr><tr><td>2024-05-26</td><td>3</td></tr><tr><td>2024-05-27</td><td>1</td></tr><tr><td>2024-05-28</td><td>2</td></tr><tr><td>2024-05-29</td><td>1</td></tr><tr><td>2024-05-30</td><td>3</td></tr><tr><td>2024-05-31</td><td>1</td></tr><tr><td>2024-06-01</td><td>3</td></tr><tr><td>2024-06-02</td><td>1</td></tr><tr><td>2024-06-04</td><td>2</td></tr><tr><td>2024-06-05</td><td>1</td></tr><tr><td>2024-06-06</td><td>7</td></tr><tr><td>2024-06-07</td><td>2</td></tr><tr><td>2024-06-08</td><td>1</td></tr><tr><td>2024-06-09</td><td>3</td></tr><tr><td>2024-06-10</td><td>1</td></tr><tr><td>2024-06-11</td><td>3</td></tr><tr><td>2024-06-12</td><td>5</td></tr><tr><td>2024-06-13</td><td>6</td></tr><tr><td>2024-06-14</td><td>6</td></tr><tr><td>2024-06-15</td><td>3</td></tr><tr><td>2024-06-16</td><td>2</td></tr><tr><td>2024-06-17</td><td>4</td></tr><tr><td>2024-06-18</td><td>1</td></tr><tr><td>2024-06-19</td><td>2</td></tr><tr><td>2024-06-20</td><td>3</td></tr><tr><td>2024-06-21</td><td>3</td></tr><tr><td>2024-06-22</td><td>4</td></tr><tr><td>2024-06-23</td><td>5</td></tr><tr><td>2024-06-24</td><td>1</td></tr><tr><td>2024-06-25</td><td>2</td></tr><tr><td>2024-06-26</td><td>1</td></tr><tr><td>2024-06-27</td><td>2</td></tr><tr><td>2024-06-28</td><td>2</td></tr><tr><td>2024-06-29</td><td>3</td></tr></tbody></table></div>"
      ]
     },
     "metadata": {
      "application/vnd.databricks.v1+output": {
       "addedWidgets": {},
       "aggData": [],
       "aggError": "",
       "aggOverflow": false,
       "aggSchema": [],
       "aggSeriesLimitReached": false,
       "aggType": "",
       "arguments": {},
       "columnCustomDisplayInfos": {},
       "data": [
        [
         "2024-01-01",
         2
        ],
        [
         "2024-01-02",
         2
        ],
        [
         "2024-01-03",
         5
        ],
        [
         "2024-01-04",
         1
        ],
        [
         "2024-01-06",
         4
        ],
        [
         "2024-01-07",
         1
        ],
        [
         "2024-01-08",
         2
        ],
        [
         "2024-01-10",
         7
        ],
        [
         "2024-01-12",
         2
        ],
        [
         "2024-01-13",
         3
        ],
        [
         "2024-01-14",
         3
        ],
        [
         "2024-01-15",
         2
        ],
        [
         "2024-01-16",
         4
        ],
        [
         "2024-01-18",
         4
        ],
        [
         "2024-01-19",
         6
        ],
        [
         "2024-01-20",
         5
        ],
        [
         "2024-01-21",
         3
        ],
        [
         "2024-01-22",
         2
        ],
        [
         "2024-01-23",
         1
        ],
        [
         "2024-01-24",
         4
        ],
        [
         "2024-01-25",
         5
        ],
        [
         "2024-01-26",
         4
        ],
        [
         "2024-01-27",
         3
        ],
        [
         "2024-01-28",
         4
        ],
        [
         "2024-01-29",
         4
        ],
        [
         "2024-01-30",
         1
        ],
        [
         "2024-01-31",
         4
        ],
        [
         "2024-02-01",
         4
        ],
        [
         "2024-02-02",
         1
        ],
        [
         "2024-02-03",
         2
        ],
        [
         "2024-02-04",
         2
        ],
        [
         "2024-02-05",
         4
        ],
        [
         "2024-02-06",
         3
        ],
        [
         "2024-02-07",
         2
        ],
        [
         "2024-02-08",
         3
        ],
        [
         "2024-02-09",
         4
        ],
        [
         "2024-02-10",
         1
        ],
        [
         "2024-02-11",
         2
        ],
        [
         "2024-02-12",
         7
        ],
        [
         "2024-02-13",
         1
        ],
        [
         "2024-02-14",
         2
        ],
        [
         "2024-02-15",
         2
        ],
        [
         "2024-02-16",
         1
        ],
        [
         "2024-02-17",
         2
        ],
        [
         "2024-02-18",
         5
        ],
        [
         "2024-02-19",
         3
        ],
        [
         "2024-02-20",
         1
        ],
        [
         "2024-02-21",
         2
        ],
        [
         "2024-02-22",
         5
        ],
        [
         "2024-02-23",
         3
        ],
        [
         "2024-02-24",
         3
        ],
        [
         "2024-02-25",
         2
        ],
        [
         "2024-02-27",
         5
        ],
        [
         "2024-02-28",
         1
        ],
        [
         "2024-02-29",
         1
        ],
        [
         "2024-03-01",
         3
        ],
        [
         "2024-03-02",
         4
        ],
        [
         "2024-03-03",
         1
        ],
        [
         "2024-03-04",
         3
        ],
        [
         "2024-03-05",
         2
        ],
        [
         "2024-03-06",
         1
        ],
        [
         "2024-03-07",
         1
        ],
        [
         "2024-03-08",
         3
        ],
        [
         "2024-03-09",
         2
        ],
        [
         "2024-03-10",
         2
        ],
        [
         "2024-03-11",
         2
        ],
        [
         "2024-03-12",
         4
        ],
        [
         "2024-03-13",
         2
        ],
        [
         "2024-03-14",
         1
        ],
        [
         "2024-03-16",
         5
        ],
        [
         "2024-03-17",
         7
        ],
        [
         "2024-03-18",
         6
        ],
        [
         "2024-03-20",
         4
        ],
        [
         "2024-03-21",
         1
        ],
        [
         "2024-03-22",
         6
        ],
        [
         "2024-03-23",
         3
        ],
        [
         "2024-03-24",
         4
        ],
        [
         "2024-03-25",
         7
        ],
        [
         "2024-03-26",
         5
        ],
        [
         "2024-03-27",
         3
        ],
        [
         "2024-03-28",
         1
        ],
        [
         "2024-03-29",
         4
        ],
        [
         "2024-03-31",
         3
        ],
        [
         "2024-04-01",
         2
        ],
        [
         "2024-04-02",
         3
        ],
        [
         "2024-04-03",
         5
        ],
        [
         "2024-04-05",
         7
        ],
        [
         "2024-04-06",
         2
        ],
        [
         "2024-04-07",
         3
        ],
        [
         "2024-04-08",
         3
        ],
        [
         "2024-04-09",
         4
        ],
        [
         "2024-04-10",
         3
        ],
        [
         "2024-04-11",
         5
        ],
        [
         "2024-04-12",
         2
        ],
        [
         "2024-04-13",
         1
        ],
        [
         "2024-04-15",
         6
        ],
        [
         "2024-04-16",
         3
        ],
        [
         "2024-04-17",
         1
        ],
        [
         "2024-04-19",
         2
        ],
        [
         "2024-04-21",
         1
        ],
        [
         "2024-04-22",
         2
        ],
        [
         "2024-04-23",
         8
        ],
        [
         "2024-04-24",
         6
        ],
        [
         "2024-04-25",
         1
        ],
        [
         "2024-04-26",
         3
        ],
        [
         "2024-04-27",
         2
        ],
        [
         "2024-04-28",
         4
        ],
        [
         "2024-04-29",
         2
        ],
        [
         "2024-04-30",
         5
        ],
        [
         "2024-05-01",
         3
        ],
        [
         "2024-05-02",
         4
        ],
        [
         "2024-05-03",
         2
        ],
        [
         "2024-05-04",
         2
        ],
        [
         "2024-05-05",
         3
        ],
        [
         "2024-05-06",
         3
        ],
        [
         "2024-05-07",
         1
        ],
        [
         "2024-05-08",
         4
        ],
        [
         "2024-05-09",
         2
        ],
        [
         "2024-05-10",
         4
        ],
        [
         "2024-05-11",
         3
        ],
        [
         "2024-05-12",
         4
        ],
        [
         "2024-05-13",
         5
        ],
        [
         "2024-05-14",
         2
        ],
        [
         "2024-05-15",
         3
        ],
        [
         "2024-05-16",
         3
        ],
        [
         "2024-05-17",
         3
        ],
        [
         "2024-05-18",
         1
        ],
        [
         "2024-05-19",
         1
        ],
        [
         "2024-05-20",
         3
        ],
        [
         "2024-05-21",
         6
        ],
        [
         "2024-05-22",
         3
        ],
        [
         "2024-05-23",
         1
        ],
        [
         "2024-05-24",
         5
        ],
        [
         "2024-05-25",
         1
        ],
        [
         "2024-05-26",
         3
        ],
        [
         "2024-05-27",
         1
        ],
        [
         "2024-05-28",
         2
        ],
        [
         "2024-05-29",
         1
        ],
        [
         "2024-05-30",
         3
        ],
        [
         "2024-05-31",
         1
        ],
        [
         "2024-06-01",
         3
        ],
        [
         "2024-06-02",
         1
        ],
        [
         "2024-06-04",
         2
        ],
        [
         "2024-06-05",
         1
        ],
        [
         "2024-06-06",
         7
        ],
        [
         "2024-06-07",
         2
        ],
        [
         "2024-06-08",
         1
        ],
        [
         "2024-06-09",
         3
        ],
        [
         "2024-06-10",
         1
        ],
        [
         "2024-06-11",
         3
        ],
        [
         "2024-06-12",
         5
        ],
        [
         "2024-06-13",
         6
        ],
        [
         "2024-06-14",
         6
        ],
        [
         "2024-06-15",
         3
        ],
        [
         "2024-06-16",
         2
        ],
        [
         "2024-06-17",
         4
        ],
        [
         "2024-06-18",
         1
        ],
        [
         "2024-06-19",
         2
        ],
        [
         "2024-06-20",
         3
        ],
        [
         "2024-06-21",
         3
        ],
        [
         "2024-06-22",
         4
        ],
        [
         "2024-06-23",
         5
        ],
        [
         "2024-06-24",
         1
        ],
        [
         "2024-06-25",
         2
        ],
        [
         "2024-06-26",
         1
        ],
        [
         "2024-06-27",
         2
        ],
        [
         "2024-06-28",
         2
        ],
        [
         "2024-06-29",
         3
        ]
       ],
       "datasetInfos": [],
       "dbfsResultPath": null,
       "isJsonSchema": true,
       "metadata": {},
       "overflow": false,
       "plotOptions": {
        "customPlotOptions": {},
        "displayType": "table",
        "pivotAggregation": null,
        "pivotColumns": null,
        "xColumns": null,
        "yColumns": null
       },
       "removedWidgets": [],
       "schema": [
        {
         "metadata": "{}",
         "name": "day",
         "type": "\"date\""
        },
        {
         "metadata": "{}",
         "name": "tickets",
         "type": "\"long\""
        }
       ],
       "type": "table"
      }
     },
     "output_type": "display_data"
    },
    {
     "output_type": "display_data",
     "data": {
      "text/plain": [
       "Databricks visualization. Run in Databricks to view."
      ]
     },
     "metadata": {
      "application/vnd.databricks.v1.subcommand+json": {
       "baseErrorDetails": null,
       "bindings": {},
       "collapsed": false,
       "command": "%sql WITH q AS (SELECT CAST(created_at AS DATE) AS day, COUNT(*) AS tickets\nFROM dashboard_data\nGROUP BY CAST(created_at AS DATE)\nORDER BY day) SELECT `day`,SUM(`tickets`) `column_fbb45bd867` FROM q GROUP BY `day`",
       "commandTitle": "Visualization 1",
       "commandType": "auto",
       "commandVersion": 0,
       "commentThread": [],
       "commentsVisible": false,
       "contentSha256Hex": null,
       "customPlotOptions": {
        "redashChart": [
         {
          "key": "type",
          "value": "CHART"
         },
         {
          "key": "options",
          "value": {
           "alignYAxesAtZero": true,
           "coefficient": 1,
           "columnConfigurationMap": {
            "x": {
             "column": "day",
             "id": "column_fbb45bd866"
            },
            "y": [
             {
              "column": "tickets",
              "id": "column_fbb45bd867",
              "transform": "SUM"
             }
            ]
           },
           "dateTimeFormat": "DD/MM/YYYY HH:mm",
           "direction": {
            "type": "counterclockwise"
           },
           "error_y": {
            "type": "data",
            "visible": true
           },
           "globalSeriesType": "line",
           "legend": {
            "traceorder": "normal"
           },
           "missingValuesAsZero": true,
           "numberFormat": "0,0.[00000]",
           "percentFormat": "0[.]00%",
           "series": {
            "error_y": {
             "type": "data",
             "visible": true
            },
            "stacking": null
           },
           "seriesOptions": {
            "column_fbb45bd867": {
             "name": "tickets",
             "yAxis": 0
            }
           },
           "showDataLabels": false,
           "sizemode": "diameter",
           "sortX": true,
           "sortY": true,
           "swappedAxes": false,
           "textFormat": "",
           "useAggregationsUi": true,
           "valuesOptions": {},
           "version": 2,
           "xAxis": {
            "labels": {
             "enabled": true
            },
            "type": "-"
           },
           "yAxis": [
            {
             "type": "-"
            },
            {
             "opposite": true,
             "type": "-"
            }
           ]
          }
         }
        ]
       },
       "datasetPreviewNameToCmdIdMap": {},
       "diffDeletes": [],
       "diffInserts": [],
       "displayType": "redashChart",
       "error": null,
       "errorDetails": null,
       "errorSummary": null,
       "errorTraceType": null,
       "finishTime": 0,
       "globalVars": {},
       "guid": "",
       "height": "auto",
       "hideCommandCode": false,
       "hideCommandResult": false,
       "iPythonMetadata": null,
       "inputWidgets": {},
       "isLockedInExamMode": false,
       "latestUser": "a user",
       "latestUserId": null,
       "listResultMetadata": null,
       "metadata": {},
       "nuid": "5ceb19bb-018e-4909-b005-eb339cc3686e",
       "origId": 0,
       "parentHierarchy": [],
       "pivotAggregation": null,
       "pivotColumns": null,
       "position": 11.0,
       "resultDbfsErrorMessage": null,
       "resultDbfsStatus": "INLINED_IN_TREE",
       "results": null,
       "showCommandTitle": false,
       "startTime": 0,
       "state": "input",
       "streamStates": {},
       "subcommandOptions": {
        "queryPlan": {
         "groups": [
          {
           "column": "day",
           "type": "column"
          }
         ],
         "selects": [
          {
           "column": "day",
           "type": "column"
          },
          {
           "alias": "column_fbb45bd867",
           "args": [
            {
             "column": "tickets",
             "type": "column"
            }
           ],
           "function": "SUM",
           "type": "function"
          }
         ]
        }
       },
       "submitTime": 0,
       "subtype": "tableResultSubCmd.visualization",
       "tableResultIndex": 0,
       "tableResultSettingsMap": {},
       "useConsistentColors": false,
       "version": "CommandV1",
       "width": "auto",
       "workflows": [],
       "xColumns": null,
       "yColumns": null
      }
     },
     "output_type": "display_data"
    }
   ],
   "source": [
    "%sql\n",
    "SELECT CAST(created_at AS DATE) AS day, COUNT(*) AS tickets\n",
    "FROM dashboard_data\n",
    "GROUP BY CAST(created_at AS DATE)\n",
    "ORDER BY day\n"
   ]
  },
  {
   "cell_type": "code",
   "execution_count": 0,
   "metadata": {
    "application/vnd.databricks.v1+cell": {
     "cellMetadata": {
      "byteLimit": 2048000,
      "implicitDf": true,
      "rowLimit": 10000
     },
     "inputWidgets": {},
     "nuid": "f0d114c6-b614-475d-9f1d-405aadcac4a0",
     "showTitle": false,
     "tableResultSettingsMap": {},
     "title": ""
    }
   },
   "outputs": [
    {
     "output_type": "display_data",
     "data": {
      "text/html": [
       "<style scoped>\n",
       "  .table-result-container {\n",
       "    max-height: 300px;\n",
       "    overflow: auto;\n",
       "  }\n",
       "  table, th, td {\n",
       "    border: 1px solid black;\n",
       "    border-collapse: collapse;\n",
       "  }\n",
       "  th, td {\n",
       "    padding: 5px;\n",
       "  }\n",
       "  th {\n",
       "    text-align: left;\n",
       "  }\n",
       "</style><div class='table-result-container'><table class='table-result'><thead style='background-color: white'><tr><th>location</th><th>avg_csat</th></tr></thead><tbody><tr><td>Texas</td><td>3.12</td></tr><tr><td>Florida</td><td>3.09</td></tr><tr><td>California</td><td>2.87</td></tr><tr><td>New York</td><td>3.07</td></tr></tbody></table></div>"
      ]
     },
     "metadata": {
      "application/vnd.databricks.v1+output": {
       "addedWidgets": {},
       "aggData": [],
       "aggError": "",
       "aggOverflow": false,
       "aggSchema": [],
       "aggSeriesLimitReached": false,
       "aggType": "",
       "arguments": {},
       "columnCustomDisplayInfos": {},
       "data": [
        [
         "Texas",
         3.12
        ],
        [
         "Florida",
         3.09
        ],
        [
         "California",
         2.87
        ],
        [
         "New York",
         3.07
        ]
       ],
       "datasetInfos": [],
       "dbfsResultPath": null,
       "isJsonSchema": true,
       "metadata": {},
       "overflow": false,
       "plotOptions": {
        "customPlotOptions": {},
        "displayType": "table",
        "pivotAggregation": null,
        "pivotColumns": null,
        "xColumns": null,
        "yColumns": null
       },
       "removedWidgets": [],
       "schema": [
        {
         "metadata": "{}",
         "name": "location",
         "type": "\"string\""
        },
        {
         "metadata": "{}",
         "name": "avg_csat",
         "type": "\"double\""
        }
       ],
       "type": "table"
      }
     },
     "output_type": "display_data"
    },
    {
     "output_type": "display_data",
     "data": {
      "text/plain": [
       "Databricks visualization. Run in Databricks to view."
      ]
     },
     "metadata": {
      "application/vnd.databricks.v1.subcommand+json": {
       "baseErrorDetails": null,
       "bindings": {},
       "collapsed": false,
       "command": "%sql WITH q AS (SELECT location, ROUND(AVG(csat_rating), 2) AS avg_csat\nFROM dashboard_data\nGROUP BY location) SELECT `location`,SUM(`avg_csat`) `column_fbb45bd878` FROM q GROUP BY `location`",
       "commandTitle": "Visualization 1",
       "commandType": "auto",
       "commandVersion": 0,
       "commentThread": [],
       "commentsVisible": false,
       "contentSha256Hex": null,
       "customPlotOptions": {
        "redashChart": [
         {
          "key": "type",
          "value": "CHART"
         },
         {
          "key": "options",
          "value": {
           "alignYAxesAtZero": true,
           "coefficient": 1,
           "columnConfigurationMap": {
            "x": {
             "column": "location",
             "id": "column_fbb45bd876"
            },
            "y": [
             {
              "column": "avg_csat",
              "id": "column_fbb45bd878",
              "transform": "SUM"
             }
            ]
           },
           "dateTimeFormat": "DD/MM/YYYY HH:mm",
           "direction": {
            "type": "counterclockwise"
           },
           "error_y": {
            "type": "data",
            "visible": true
           },
           "globalSeriesType": "column",
           "isAggregationOn": true,
           "legend": {
            "traceorder": "normal"
           },
           "missingValuesAsZero": true,
           "numberFormat": "0,0.[00000]",
           "percentFormat": "0[.]00%",
           "series": {
            "error_y": {
             "type": "data",
             "visible": true
            },
            "stacking": null
           },
           "seriesOptions": {
            "column_fbb45bd878": {
             "type": "column",
             "yAxis": 0
            }
           },
           "showDataLabels": false,
           "sizemode": "diameter",
           "sortX": true,
           "sortY": true,
           "swappedAxes": false,
           "textFormat": "",
           "useAggregationsUi": true,
           "valuesOptions": {},
           "version": 2,
           "xAxis": {
            "labels": {
             "enabled": true
            },
            "type": "-"
           },
           "yAxis": [
            {
             "type": "-"
            },
            {
             "opposite": true,
             "type": "-"
            }
           ]
          }
         }
        ]
       },
       "datasetPreviewNameToCmdIdMap": {},
       "diffDeletes": [],
       "diffInserts": [],
       "displayType": "redashChart",
       "error": null,
       "errorDetails": null,
       "errorSummary": null,
       "errorTraceType": null,
       "finishTime": 0,
       "globalVars": {},
       "guid": "",
       "height": "auto",
       "hideCommandCode": false,
       "hideCommandResult": false,
       "iPythonMetadata": null,
       "inputWidgets": {},
       "isLockedInExamMode": false,
       "latestUser": "a user",
       "latestUserId": null,
       "listResultMetadata": null,
       "metadata": {},
       "nuid": "2b511c9d-6c7c-484c-95e4-eb691b35413a",
       "origId": 0,
       "parentHierarchy": [],
       "pivotAggregation": null,
       "pivotColumns": null,
       "position": 12.0,
       "resultDbfsErrorMessage": null,
       "resultDbfsStatus": "INLINED_IN_TREE",
       "results": null,
       "showCommandTitle": false,
       "startTime": 0,
       "state": "input",
       "streamStates": {},
       "subcommandOptions": {
        "queryPlan": {
         "groups": [
          {
           "column": "location",
           "type": "column"
          }
         ],
         "selects": [
          {
           "column": "location",
           "type": "column"
          },
          {
           "alias": "column_fbb45bd878",
           "args": [
            {
             "column": "avg_csat",
             "type": "column"
            }
           ],
           "function": "SUM",
           "type": "function"
          }
         ]
        }
       },
       "submitTime": 0,
       "subtype": "tableResultSubCmd.visualization",
       "tableResultIndex": 0,
       "tableResultSettingsMap": {},
       "useConsistentColors": false,
       "version": "CommandV1",
       "width": "auto",
       "workflows": [],
       "xColumns": null,
       "yColumns": null
      }
     },
     "output_type": "display_data"
    }
   ],
   "source": [
    "%sql\n",
    "SELECT location, ROUND(AVG(csat_rating), 2) AS avg_csat\n",
    "FROM dashboard_data\n",
    "GROUP BY location\n"
   ]
  }
 ],
 "metadata": {
  "application/vnd.databricks.v1+notebook": {
   "computePreferences": null,
   "dashboards": [],
   "environmentMetadata": {
    "base_environment": "",
    "environment_version": "1"
   },
   "inputWidgetPreferences": null,
   "language": "python",
   "notebookMetadata": {
    "mostRecentlyExecutedCommandWithImplicitDF": {
     "commandId": 1552724591389407,
     "dataframes": [
      "_sqldf"
     ]
    },
    "pythonIndentUnit": 4
   },
   "notebookName": "Dashboarding Task",
   "widgets": {}
  }
 },
 "nbformat": 4,
 "nbformat_minor": 0
}